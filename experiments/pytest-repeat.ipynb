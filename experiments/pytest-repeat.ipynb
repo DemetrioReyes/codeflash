﻿{
 "cells": [
  {
   "cell_type": "code",
   "id": "initial_id",
   "metadata": {
    "collapsed": true
   },
   "source": [
    "# testsuite1 = \"\"\"from code_to_optimize.bubble_sort import sorter\n",
    "# \n",
    "# \n",
    "# def test_sort1():\n",
    "#     input = [5, 4, 3, 2, 1, 0]\n",
    "#     output = sorter(input)\n",
    "#     assert output == [0, 1, 2, 3, 4, 5]\n",
    "# \n",
    "#     input = [5.0, 4.0, 3.0, 2.0, 1.0, 0.0]\n",
    "#     output = sorter(input)\n",
    "#     assert output == [0.0, 1.0, 2.0, 3.0, 4.0, 5.0]\n",
    "# \n",
    "# def test_sort2():\n",
    "#     input = [6, 5, 4, 3, 2, 1]\n",
    "#     output = sorter(input)\n",
    "#     assert output == [1, 2, 3, 4, 5, 6]\n",
    "# \n",
    "#     input = [6.0, 5.0, 4.0, 3.0, 2.0, 1.0]\n",
    "#     output = sorter(input)\n",
    "#     assert output == [1.0, 2.0, 3.0, 4.0, 5.0, 6.0]\"\"\"\n",
    "#     \n",
    "# testsuite2 = \"\"\"from code_to_optimize.bubble_sort import sorter\n",
    "# \n",
    "# def test_sort3():\n",
    "#     input = [5, 3, 2, 1, 0]\n",
    "#     output = sorter(input)\n",
    "#     assert output == [0, 1, 2, 3, 5]\n",
    "# \n",
    "#     input = [5.0, 3.0, 2.0, 1.0, 0.0]\n",
    "#     output = sorter(input)\n",
    "#     assert output == [0.0, 1.0, 2.0, 3.0, 5.0]\n",
    "# \n",
    "# def test_sort4():\n",
    "#     input = [6, 5, 3, 2, 1]\n",
    "#     output = sorter(input)\n",
    "#     assert output == [1, 2, 3, 5, 6]\n",
    "# \n",
    "#     input = [6.0, 5.0, 3.0, 2.0, 1.0]\n",
    "#     output = sorter(input)\n",
    "#     assert output == [1.0, 2.0, 3.0, 5.0, 6.0]\"\"\"\n",
    "\n"
   ],
   "outputs": [],
   "execution_count": null
  },
  {
   "metadata": {},
   "cell_type": "code",
   "source": [
    "# test_path = \"/Users/renaud/repos/codeflash/cli/code_to_optimize/tests/pytest/test_suite1_bubble_sort.py\"\n",
    "# \n",
    "# with open(test_path, \"w\") as f:\n",
    "#     f.write(testsuite1)"
   ],
   "id": "8662a090c5164e72",
   "outputs": [],
   "execution_count": null
  },
  {
   "metadata": {},
   "cell_type": "code",
   "source": [
    "# test_path = \"/Users/renaud/repos/codeflash/cli/code_to_optimize/tests/pytest/test_suite2_bubble_sort.py\"\n",
    "# \n",
    "# with open(test_path, \"w\") as f:\n",
    "#     f.write(testsuite2)"
   ],
   "id": "eaf9b884c75c10df",
   "outputs": [],
   "execution_count": null
  },
  {
   "metadata": {
    "ExecuteTime": {
     "end_time": "2024-09-06T01:16:29.948313Z",
     "start_time": "2024-09-06T01:16:29.398377Z"
    }
   },
   "cell_type": "code",
   "source": [
    "import os\n",
    "import pytest\n",
    "\n",
    "os.environ[\"CODEFLASH_TEST_ITERATION\"] = str(0)\n",
    "os.environ[\"PYTEST_PLUGINS\"] = \"codeflash.verification.pytest_plugin\"\n",
    "\n",
    "# !pytest /Users/renaud/repos/codeflash/cli/code_to_optimize/tests/pytest/test_suite1_bubble_sort.py /Users/renaud/repos/codeflash/cli/code_to_optimize/tests/pytest/test_bubble_sort_parametrized_loop.py -v --capture=tee-sys --junitxml=/Users/renaud/results.xml -o junit_logging=all --loop=2 --loop-scope=session\n",
    "\n",
    "!pytest /Users/renaud/repos/codeflash/cli/code_to_optimize/tests/pytest/test_suite1_bubble_sort__perfinstrumented.py -v --capture=tee-sys --junitxml=/Users/renaud/results.xml -o junit_logging=all --loop=2 --loop-scope=session"
   ],
   "id": "f71be2d8aa685362",
   "outputs": [
    {
     "name": "stdout",
     "output_type": "stream",
     "text": [
      "\u001B[1m============================= test session starts ==============================\u001B[0m\r\n",
      "platform darwin -- Python 3.12.2, pytest-8.2.0, pluggy-1.5.0 -- /Users/renaud/miniforge3/envs/codeflash312/bin/python\r\n",
      "cachedir: .pytest_cache\r\n",
      "hypothesis profile 'default' -> database=DirectoryBasedExampleDatabase(PosixPath('/Users/renaud/repos/codeflash/cli/experiments/.hypothesis/examples'))\r\n",
      "rootdir: /Users/renaud/repos/codeflash/cli\r\n",
      "configfile: pyproject.toml\r\n",
      "plugins: hypothesis-6.105.0, anyio-4.3.0, flakefinder-1.1.0, timeout-2.3.1, returns-0.22.0\r\n",
      "collected 4 items                                                              \u001B[0m\r\n",
      "\r\n",
      "../code_to_optimize/tests/pytest/test_suite1_bubble_sort__perfinstrumented.py::test_sort1[2/1] !######0:code_to_optimize.tests.pytest.test_suite1_bubble_sort:test_sort1:sorter:1_0######!\r\n",
      "!######0:code_to_optimize.tests.pytest.test_suite1_bubble_sort:test_sort1:sorter:4_0######!\r\n",
      "\u001B[32mPASSED\u001B[0m\u001B[32m [ 25%]\u001B[0m\r\n",
      "../code_to_optimize/tests/pytest/test_suite1_bubble_sort__perfinstrumented.py::test_sort2[2/1] !######0:code_to_optimize.tests.pytest.test_suite1_bubble_sort:test_sort2:sorter:1_0######!\r\n",
      "!######0:code_to_optimize.tests.pytest.test_suite1_bubble_sort:test_sort2:sorter:4_0######!\r\n",
      "\u001B[32mPASSED\u001B[0m\u001B[32m [ 50%]\u001B[0m\r\n",
      "../code_to_optimize/tests/pytest/test_suite1_bubble_sort__perfinstrumented.py::test_sort1[2/2] !######1:code_to_optimize.tests.pytest.test_suite1_bubble_sort:test_sort1:sorter:1_0######!\r\n",
      "!######1:code_to_optimize.tests.pytest.test_suite1_bubble_sort:test_sort1:sorter:4_0######!\r\n",
      "\u001B[32mPASSED\u001B[0m\u001B[32m [ 75%]\u001B[0m\r\n",
      "../code_to_optimize/tests/pytest/test_suite1_bubble_sort__perfinstrumented.py::test_sort2[2/2] !######1:code_to_optimize.tests.pytest.test_suite1_bubble_sort:test_sort2:sorter:1_0######!\r\n",
      "!######1:code_to_optimize.tests.pytest.test_suite1_bubble_sort:test_sort2:sorter:4_0######!\r\n",
      "\u001B[32mPASSED\u001B[0m\u001B[32m [100%]\u001B[0m\r\n",
      "\r\n",
      "---------------- generated xml file: /Users/renaud/results.xml -----------------\r\n",
      "\u001B[32m============================== \u001B[32m\u001B[1m4 passed\u001B[0m\u001B[32m in 0.18s\u001B[0m\u001B[32m ===============================\u001B[0m\r\n"
     ]
    }
   ],
   "execution_count": 1
  },
  {
   "metadata": {},
   "cell_type": "code",
   "source": "#pytest_test_env",
   "id": "ea59290b07291077",
   "outputs": [],
   "execution_count": null
  }
 ],
 "metadata": {
  "kernelspec": {
   "display_name": "Python 3",
   "language": "python",
   "name": "python3"
  },
  "language_info": {
   "codemirror_mode": {
    "name": "ipython",
    "version": 2
   },
   "file_extension": ".py",
   "mimetype": "text/x-python",
   "name": "python",
   "nbconvert_exporter": "python",
   "pygments_lexer": "ipython2",
   "version": "2.7.6"
  }
 },
 "nbformat": 4,
 "nbformat_minor": 5
}
